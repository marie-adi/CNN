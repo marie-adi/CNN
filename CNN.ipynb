{
 "cells": [
  {
   "cell_type": "markdown",
   "id": "4bd385d3",
   "metadata": {},
   "source": [
    "# Redes neuronales convolucionales o CNNs.\n",
    "\n",
    "**¿Qué es una red neuronal?**\n",
    "\n",
    "En el campo del **aprendizaje automático**, las **redes neuronales artificiales** se erigen como un paradigma computacional inspirado en la estructura y el funcionamiento del cerebro humano. Su arquitectura se basa en la interconexión de **nodos**, a menudo denominados **\"neuronas\"**, organizados en capas. Estas neuronas procesan la información de entrada, la transforman a través de una función no lineal y la transmiten a la siguiente capa.\n",
    "\n",
    "### La Estructura y el Aprendizaje\n",
    "\n",
    "Se compone de tres tipos de capas:\n",
    "\n",
    "- **Capa de entrada (Input Layer):** Recibe los datos iniciales, como los píxeles de una imagen o los valores de una tabla. Cada neurona en esta capa corresponde a una característica de entrada.\n",
    "\n",
    "- **Capas ocultas (Hidden Layers):** Aquí se realiza la mayor parte del procesamiento. Las neuronas en estas capas reciben la salida de la capa anterior, aplican una **suma ponderada** de las entradas (donde los \"pesos\" son los parámetros del modelo) y luego pasan el resultado a una **función de activación** para introducir no linealidad.\n",
    "\n",
    "- **Capa de salida (Output Layer):** Produce el resultado final del modelo, que puede ser una clasificación (como \"gato\" o \"perro\") o una regresión (un valor numérico).\n",
    "\n",
    "El proceso de **aprendizaje** en una RNA es iterativo y se basa en la **optimización**. El modelo se entrena alimentándole un conjunto de datos, ajustando los pesos de las conexiones entre neuronas para minimizar una **función de pérdida**. Esta función cuantifica la discrepancia entre la salida predicha del modelo y el valor real.\n",
    "\n",
    "<img src=\"../src/images/EsquemaRNA.png\">"
   ]
  }
 ],
 "metadata": {
  "language_info": {
   "name": "python"
  }
 },
 "nbformat": 4,
 "nbformat_minor": 5
}
